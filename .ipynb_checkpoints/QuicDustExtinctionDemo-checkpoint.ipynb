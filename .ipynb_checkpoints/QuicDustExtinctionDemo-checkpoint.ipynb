{
 "cells": [
  {
   "cell_type": "code",
   "execution_count": 24,
   "id": "371f4967-4640-4e9c-b678-99630a3328e6",
   "metadata": {},
   "outputs": [],
   "source": [
    "import dust_extinction\n",
    "from astropy import units as u\n",
    "import numpy as np"
   ]
  },
  {
   "cell_type": "code",
   "execution_count": 2,
   "id": "a4efdc7b-e578-486f-a71b-d179f231ff30",
   "metadata": {},
   "outputs": [],
   "source": [
    "from dust_extinction.averages import RRP89_MWGC, CT06_MWGC, F11_MWGC\n",
    "from dust_extinction.parameter_averages import CCM89"
   ]
  },
  {
   "cell_type": "code",
   "execution_count": 3,
   "id": "a2c2d468-0c40-4d9c-ba5c-c32e95830170",
   "metadata": {},
   "outputs": [],
   "source": [
    "ext = F11_MWGC()"
   ]
  },
  {
   "cell_type": "code",
   "execution_count": 19,
   "id": "097e91ca-5fba-4f48-8153-b11697de5b28",
   "metadata": {},
   "outputs": [],
   "source": [
    "av = 30"
   ]
  },
  {
   "cell_type": "code",
   "execution_count": 20,
   "id": "174b9620-d296-406b-95f8-0fa2b3732411",
   "metadata": {},
   "outputs": [
    {
     "data": {
      "text/plain": [
       "9.36708352568537"
      ]
     },
     "execution_count": 20,
     "metadata": {},
     "output_type": "execute_result"
    }
   ],
   "source": [
    "A_1pt4 = ext(1.4*u.um) * av\n",
    "A_1pt4"
   ]
  },
  {
   "cell_type": "code",
   "execution_count": 41,
   "id": "1e7d41f1-ce33-4eeb-9c29-49f4ba324e89",
   "metadata": {},
   "outputs": [
    {
     "data": {
      "text/plain": [
       "1.429755231229119"
      ]
     },
     "execution_count": 41,
     "metadata": {},
     "output_type": "execute_result"
    }
   ],
   "source": [
    "A_4pt8 = ext(4.8*u.um) * av\n",
    "A_4pt8"
   ]
  },
  {
   "cell_type": "code",
   "execution_count": 42,
   "id": "c96cc538-5433-49c4-ac20-2aa924164ec1",
   "metadata": {},
   "outputs": [],
   "source": [
    "magofstar = 10"
   ]
  },
  {
   "cell_type": "code",
   "execution_count": 43,
   "id": "9c490c21-a05e-4f64-977a-440142d955bf",
   "metadata": {},
   "outputs": [
    {
     "data": {
      "text/plain": [
       "14.647094628571464"
      ]
     },
     "execution_count": 43,
     "metadata": {},
     "output_type": "execute_result"
    }
   ],
   "source": [
    "distance_modulus = float(5*np.log10(8.5*u.kpc / (10*u.pc)))\n",
    "distance_modulus"
   ]
  },
  {
   "cell_type": "code",
   "execution_count": 44,
   "id": "60f92c68-7350-4c2c-905b-178d12497627",
   "metadata": {},
   "outputs": [
    {
     "data": {
      "text/plain": [
       "26.076849859800582"
      ]
     },
     "execution_count": 44,
     "metadata": {},
     "output_type": "execute_result"
    }
   ],
   "source": [
    "obsmag = magofstar + A_4pt8 + distance_modulus\n",
    "obsmag"
   ]
  },
  {
   "cell_type": "code",
   "execution_count": 46,
   "id": "01ad1980-a7ea-4e48-b9fa-c1a965b56595",
   "metadata": {},
   "outputs": [],
   "source": [
    "ext = CT06_MWGC()"
   ]
  },
  {
   "cell_type": "code",
   "execution_count": 53,
   "id": "b26fe555-fe6a-4523-8ba5-41c46a7ccf45",
   "metadata": {},
   "outputs": [
    {
     "data": {
      "text/plain": [
       "0.07537600000000001"
      ]
     },
     "execution_count": 53,
     "metadata": {},
     "output_type": "execute_result"
    }
   ],
   "source": [
    "ext(21*u.um)"
   ]
  }
 ],
 "metadata": {
  "kernelspec": {
   "display_name": "python39",
   "language": "python",
   "name": "python39"
  },
  "language_info": {
   "codemirror_mode": {
    "name": "ipython",
    "version": 3
   },
   "file_extension": ".py",
   "mimetype": "text/x-python",
   "name": "python",
   "nbconvert_exporter": "python",
   "pygments_lexer": "ipython3",
   "version": "3.9.13"
  }
 },
 "nbformat": 4,
 "nbformat_minor": 5
}
