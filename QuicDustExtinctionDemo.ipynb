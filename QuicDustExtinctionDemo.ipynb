{
 "cells": [
  {
   "cell_type": "code",
   "execution_count": 1,
   "id": "371f4967-4640-4e9c-b678-99630a3328e6",
   "metadata": {},
   "outputs": [],
   "source": [
    "import dust_extinction\n",
    "from astropy import units as u\n",
    "import numpy as np\n",
    "from astropy.table import Table\n"
   ]
  },
  {
   "cell_type": "code",
   "execution_count": 2,
   "id": "a4efdc7b-e578-486f-a71b-d179f231ff30",
   "metadata": {},
   "outputs": [],
   "source": [
    "from dust_extinction.averages import RRP89_MWGC, CT06_MWGC, F11_MWGC\n",
    "from dust_extinction.parameter_averages import CCM89"
   ]
  },
  {
   "cell_type": "code",
   "execution_count": 3,
   "id": "53aa8868-d235-4f57-9222-796710f2eb0d",
   "metadata": {
    "tags": []
   },
   "outputs": [],
   "source": [
    "basepath = '/orange/adamginsburg/jwst/brick/'"
   ]
  },
  {
   "cell_type": "code",
   "execution_count": 4,
   "id": "7016b63a-eb38-49d2-b9fb-a83bd9725afd",
   "metadata": {
    "tags": []
   },
   "outputs": [],
   "source": [
    "mist = Table.read(f'{basepath}/isochrones/MIST_iso_633a08f2d8bb1.iso.cmd',\n",
    "                  header_start=12, data_start=13, format='ascii', delimiter=' ', comment='#')\n",
    "mist['410M405'] = mist['F410M']\n",
    "mist['405M410'] = mist['F405N']"
   ]
  },
  {
   "cell_type": "code",
   "execution_count": 5,
   "id": "b6d0845f-8c09-4d4e-bf0b-0686f80ae504",
   "metadata": {
    "tags": []
   },
   "outputs": [],
   "source": [
    "agesel = mist['log10_isochrone_age_yr'] == 9.0\n",
    "#massel_1 = mist['star_mass'] > 0.9\n",
    "massel = np.logical_and(mist['star_mass'] > 0.96, mist['star_mass'] < 1.03)"
   ]
  },
  {
   "cell_type": "code",
   "execution_count": 6,
   "id": "4cb6f66c-472c-4e43-bcb5-0d5c0ff666b7",
   "metadata": {
    "tags": []
   },
   "outputs": [
    {
     "data": {
      "text/plain": [
       "9.0"
      ]
     },
     "execution_count": 6,
     "metadata": {},
     "output_type": "execute_result"
    }
   ],
   "source": [
    "np.log10(1e9)"
   ]
  },
  {
   "cell_type": "code",
   "execution_count": null,
   "id": "f36f1ad5-09c0-4451-a442-1a63db6780a6",
   "metadata": {
    "tags": []
   },
   "outputs": [],
   "source": []
  },
  {
   "cell_type": "code",
   "execution_count": 7,
   "id": "5f908339-743f-41d4-ac61-a2a69f950f03",
   "metadata": {
    "tags": []
   },
   "outputs": [
    {
     "data": {
      "text/html": [
       "&lt;Column name=&apos;F212N&apos; dtype=&apos;float64&apos; length=7&gt;\n",
       "<table>\n",
       "<tr><td>3.600057</td></tr>\n",
       "<tr><td>3.567664</td></tr>\n",
       "<tr><td>3.527848</td></tr>\n",
       "<tr><td>3.483187</td></tr>\n",
       "<tr><td>3.449883</td></tr>\n",
       "<tr><td>3.417678</td></tr>\n",
       "<tr><td>3.394797</td></tr>\n",
       "</table>"
      ],
      "text/plain": [
       "<Column name='F212N' dtype='float64' length=7>\n",
       "3.600057\n",
       "3.567664\n",
       "3.527848\n",
       "3.483187\n",
       "3.449883\n",
       "3.417678\n",
       "3.394797"
      ]
     },
     "execution_count": 7,
     "metadata": {},
     "output_type": "execute_result"
    }
   ],
   "source": [
    "mist['F212N'][np.logical_and(agesel, massel)]"
   ]
  },
  {
   "cell_type": "code",
   "execution_count": 8,
   "id": "2098b6f5-634f-4f69-9269-60d194045f44",
   "metadata": {
    "tags": []
   },
   "outputs": [
    {
     "data": {
      "text/html": [
       "<div><i>Table length=5</i>\n",
       "<table id=\"table23420731039264\" class=\"table-striped table-bordered table-condensed\">\n",
       "<thead><tr><th>EEP</th><th>log10_isochrone_age_yr</th><th>initial_mass</th><th>star_mass</th><th>log_Teff</th><th>log_g</th><th>log_L</th><th>[Fe/H]_init</th><th>[Fe/H]</th><th>F070W</th><th>F090W</th><th>F115W</th><th>F140M</th><th>F150W2</th><th>F150W</th><th>F162M</th><th>F164N</th><th>F182M</th><th>F187N</th><th>F200W</th><th>F210M</th><th>F212N</th><th>F250M</th><th>F277W</th><th>F300M</th><th>F322W2</th><th>F323N</th><th>F335M</th><th>F356W</th><th>F360M</th><th>F405N</th><th>F410M</th><th>F430M</th><th>F444W</th><th>F460M</th><th>F466N</th><th>F470N</th><th>F480M</th><th>phase</th><th>410M405</th><th>405M410</th></tr></thead>\n",
       "<thead><tr><th>int64</th><th>float64</th><th>float64</th><th>float64</th><th>float64</th><th>float64</th><th>float64</th><th>float64</th><th>float64</th><th>float64</th><th>float64</th><th>float64</th><th>float64</th><th>float64</th><th>float64</th><th>float64</th><th>float64</th><th>float64</th><th>float64</th><th>float64</th><th>float64</th><th>float64</th><th>float64</th><th>float64</th><th>float64</th><th>float64</th><th>float64</th><th>float64</th><th>float64</th><th>float64</th><th>float64</th><th>float64</th><th>float64</th><th>float64</th><th>float64</th><th>float64</th><th>float64</th><th>float64</th><th>float64</th><th>float64</th><th>float64</th></tr></thead>\n",
       "<tr><td>23</td><td>5.0</td><td>0.1549504467031604</td><td>0.15495042038352222</td><td>3.492262461966795</td><td>3.030913225174413</td><td>-0.48061022765371253</td><td>0.0</td><td>0.041798</td><td>7.190549</td><td>5.239828</td><td>4.195428</td><td>3.810084</td><td>3.600077</td><td>3.533576</td><td>3.154265</td><td>3.041972</td><td>3.258998</td><td>3.332219</td><td>3.207991</td><td>3.127633</td><td>3.097444</td><td>3.311584</td><td>3.310175</td><td>3.31986</td><td>3.100119</td><td>2.833528</td><td>2.998544</td><td>2.8668</td><td>2.785964</td><td>2.762808</td><td>2.692165</td><td>2.742963</td><td>2.766802</td><td>2.847391</td><td>2.912116</td><td>2.902179</td><td>2.851602</td><td>-1.0</td><td>2.692165</td><td>2.762808</td></tr>\n",
       "<tr><td>24</td><td>5.0</td><td>0.16090471535689013</td><td>0.1609046869992652</td><td>3.494601625688686</td><td>3.026269963981724</td><td>-0.4517319382495324</td><td>0.0</td><td>0.041798</td><td>7.099083</td><td>5.164455</td><td>4.130184</td><td>3.733636</td><td>3.526588</td><td>3.456224</td><td>3.077575</td><td>2.965957</td><td>3.178968</td><td>3.250905</td><td>3.130198</td><td>3.05173</td><td>3.022347</td><td>3.241984</td><td>3.242039</td><td>3.254198</td><td>3.034953</td><td>2.770175</td><td>2.934656</td><td>2.803899</td><td>2.722999</td><td>2.701997</td><td>2.631441</td><td>2.682677</td><td>2.70677</td><td>2.78835</td><td>2.852927</td><td>2.842876</td><td>2.792185</td><td>-1.0</td><td>2.631441</td><td>2.701997</td></tr>\n",
       "<tr><td>25</td><td>5.0</td><td>0.166893640928868</td><td>0.16689361042934317</td><td>3.4969338015925633</td><td>3.0218133025786247</td><td>-0.42298160014247677</td><td>0.0</td><td>0.041798</td><td>7.007471</td><td>5.089502</td><td>4.065433</td><td>3.658015</td><td>3.453519</td><td>3.379762</td><td>3.001642</td><td>2.890606</td><td>3.099502</td><td>3.169953</td><td>3.052893</td><td>2.97646</td><td>2.947819</td><td>3.172325</td><td>3.173489</td><td>3.188001</td><td>2.969552</td><td>2.706032</td><td>2.870607</td><td>2.741118</td><td>2.660277</td><td>2.641523</td><td>2.571055</td><td>2.622676</td><td>2.647039</td><td>2.729588</td><td>2.794011</td><td>2.783838</td><td>2.733012</td><td>-1.0</td><td>2.571055</td><td>2.641523</td></tr>\n",
       "<tr><td>26</td><td>5.0</td><td>0.17291878111786002</td><td>0.172918748369505</td><td>3.499259690878638</td><td>3.017500107676793</td><td>-0.39430938290525047</td><td>0.0</td><td>0.041798</td><td>6.915472</td><td>5.014852</td><td>4.001112</td><td>3.583243</td><td>3.380769</td><td>3.30423</td><td>2.926462</td><td>2.815883</td><td>3.020557</td><td>3.089274</td><td>2.976015</td><td>2.901804</td><td>2.873823</td><td>3.102401</td><td>3.104475</td><td>3.120912</td><td>2.903642</td><td>2.640663</td><td>2.806202</td><td>2.678284</td><td>2.597655</td><td>2.581267</td><td>2.510888</td><td>2.562829</td><td>2.587481</td><td>2.670973</td><td>2.735233</td><td>2.724927</td><td>2.673863</td><td>-1.0</td><td>2.510888</td><td>2.581267</td></tr>\n",
       "<tr><td>27</td><td>5.0</td><td>0.17897842247122703</td><td>0.1789783873650338</td><td>3.501579492127857</td><td>3.0133506753074393</td><td>-0.36573906977649895</td><td>0.0</td><td>0.041798</td><td>6.823016</td><td>4.940554</td><td>3.937259</td><td>3.509533</td><td>3.308431</td><td>3.229863</td><td>2.852233</td><td>2.741955</td><td>2.942293</td><td>3.008978</td><td>2.899701</td><td>2.827943</td><td>2.800524</td><td>3.032191</td><td>3.034943</td><td>3.052804</td><td>2.837149</td><td>2.573816</td><td>2.741348</td><td>2.615403</td><td>2.535175</td><td>2.521287</td><td>2.451</td><td>2.503183</td><td>2.528142</td><td>2.612543</td><td>2.676633</td><td>2.666151</td><td>2.614841</td><td>-1.0</td><td>2.451</td><td>2.521287</td></tr>\n",
       "</table></div>"
      ],
      "text/plain": [
       "<Table length=5>\n",
       " EEP  log10_isochrone_age_yr     initial_mass         star_mass           log_Teff            log_g        ...  F470N    F480M    phase  410M405  405M410 \n",
       "int64        float64               float64             float64            float64            float64       ... float64  float64  float64 float64  float64 \n",
       "----- ---------------------- ------------------- ------------------- ------------------ ------------------ ... -------- -------- ------- -------- --------\n",
       "   23                    5.0  0.1549504467031604 0.15495042038352222  3.492262461966795  3.030913225174413 ... 2.902179 2.851602    -1.0 2.692165 2.762808\n",
       "   24                    5.0 0.16090471535689013  0.1609046869992652  3.494601625688686  3.026269963981724 ... 2.842876 2.792185    -1.0 2.631441 2.701997\n",
       "   25                    5.0   0.166893640928868 0.16689361042934317 3.4969338015925633 3.0218133025786247 ... 2.783838 2.733012    -1.0 2.571055 2.641523\n",
       "   26                    5.0 0.17291878111786002   0.172918748369505  3.499259690878638  3.017500107676793 ... 2.724927 2.673863    -1.0 2.510888 2.581267\n",
       "   27                    5.0 0.17897842247122703  0.1789783873650338  3.501579492127857 3.0133506753074393 ... 2.666151 2.614841    -1.0    2.451 2.521287"
      ]
     },
     "execution_count": 8,
     "metadata": {},
     "output_type": "execute_result"
    }
   ],
   "source": [
    "mist[:5]"
   ]
  },
  {
   "cell_type": "code",
   "execution_count": 9,
   "id": "e3da0694-01a0-473b-932f-3f5a9b425061",
   "metadata": {
    "tags": []
   },
   "outputs": [
    {
     "data": {
      "text/plain": [
       "0.1"
      ]
     },
     "execution_count": 9,
     "metadata": {},
     "output_type": "execute_result"
    }
   ],
   "source": [
    "mist['initial_mass'][agesel].min()"
   ]
  },
  {
   "cell_type": "code",
   "execution_count": 18,
   "id": "a2c2d468-0c40-4d9c-ba5c-c32e95830170",
   "metadata": {},
   "outputs": [],
   "source": [
    "ext = CT06_MWGC()"
   ]
  },
  {
   "cell_type": "code",
   "execution_count": 19,
   "id": "097e91ca-5fba-4f48-8153-b11697de5b28",
   "metadata": {},
   "outputs": [],
   "source": [
    "av = 30"
   ]
  },
  {
   "cell_type": "code",
   "execution_count": 20,
   "id": "174b9620-d296-406b-95f8-0fa2b3732411",
   "metadata": {},
   "outputs": [
    {
     "data": {
      "text/plain": [
       "7.129363200000001"
      ]
     },
     "execution_count": 20,
     "metadata": {},
     "output_type": "execute_result"
    }
   ],
   "source": [
    "A_1pt4 = ext(1.4*u.um) * av\n",
    "A_1pt4"
   ]
  },
  {
   "cell_type": "code",
   "execution_count": 21,
   "id": "1e7d41f1-ce33-4eeb-9c29-49f4ba324e89",
   "metadata": {},
   "outputs": [
    {
     "data": {
      "text/plain": [
       "1.454796"
      ]
     },
     "execution_count": 21,
     "metadata": {},
     "output_type": "execute_result"
    }
   ],
   "source": [
    "A_4pt8 = ext(4.8*u.um) * av\n",
    "A_4pt8"
   ]
  },
  {
   "cell_type": "code",
   "execution_count": 22,
   "id": "b1544e14-da60-43af-abbf-a242c48876e7",
   "metadata": {
    "tags": []
   },
   "outputs": [
    {
     "data": {
      "text/plain": [
       "3.418972659698656"
      ]
     },
     "execution_count": 22,
     "metadata": {},
     "output_type": "execute_result"
    }
   ],
   "source": [
    "A_2pt1 = ext(21216.96*u.Angstrom) * av\n",
    "A_2pt1"
   ]
  },
  {
   "cell_type": "code",
   "execution_count": 23,
   "id": "c96cc538-5433-49c4-ac20-2aa924164ec1",
   "metadata": {},
   "outputs": [
    {
     "data": {
      "text/plain": [
       "3.491587714285714"
      ]
     },
     "execution_count": 23,
     "metadata": {},
     "output_type": "execute_result"
    }
   ],
   "source": [
    "magofstar = float(np.mean(mist['F212N'][np.logical_and(agesel, massel)]))\n",
    "magofstar"
   ]
  },
  {
   "cell_type": "code",
   "execution_count": 24,
   "id": "9c490c21-a05e-4f64-977a-440142d955bf",
   "metadata": {},
   "outputs": [
    {
     "data": {
      "text/plain": [
       "14.647094628571464"
      ]
     },
     "execution_count": 24,
     "metadata": {},
     "output_type": "execute_result"
    }
   ],
   "source": [
    "distance_modulus = float(5*np.log10(8.5*u.kpc / (10*u.pc)))\n",
    "distance_modulus"
   ]
  },
  {
   "cell_type": "code",
   "execution_count": 25,
   "id": "60f92c68-7350-4c2c-905b-178d12497627",
   "metadata": {},
   "outputs": [
    {
     "data": {
      "text/plain": [
       "21.557655002555833"
      ]
     },
     "execution_count": 25,
     "metadata": {},
     "output_type": "execute_result"
    }
   ],
   "source": [
    "obsmag = magofstar + A_2pt1 + distance_modulus\n",
    "obsmag"
   ]
  },
  {
   "cell_type": "code",
   "execution_count": 26,
   "id": "7892ea8c-df2d-4947-930d-fd02b048f685",
   "metadata": {},
   "outputs": [
    {
     "data": {
      "text/plain": [
       "18.13868234285718"
      ]
     },
     "execution_count": 26,
     "metadata": {},
     "output_type": "execute_result"
    }
   ],
   "source": [
    "magofstar+ distance_modulus"
   ]
  },
  {
   "cell_type": "code",
   "execution_count": null,
   "id": "583d8385-b4fd-464d-b902-075c040b0926",
   "metadata": {},
   "outputs": [],
   "source": []
  }
 ],
 "metadata": {
  "kernelspec": {
   "display_name": "Python 3 (ipykernel)",
   "language": "python",
   "name": "python3"
  },
  "language_info": {
   "codemirror_mode": {
    "name": "ipython",
    "version": 3
   },
   "file_extension": ".py",
   "mimetype": "text/x-python",
   "name": "python",
   "nbconvert_exporter": "python",
   "pygments_lexer": "ipython3",
   "version": "3.9.17"
  }
 },
 "nbformat": 4,
 "nbformat_minor": 5
}
